{
 "cells": [
  {
   "cell_type": "markdown",
   "metadata": {},
   "source": [
    "## TextToSpeech using gTTS(Google Text-to-Speech)"
   ]
  },
  {
   "cell_type": "code",
   "execution_count": 36,
   "metadata": {},
   "outputs": [],
   "source": [
    "from gtts import gTTS  #This required module for text to speech conversion\n",
    "import PyPDF2   # This will be used to extract text from pdf file"
   ]
  },
  {
   "cell_type": "markdown",
   "metadata": {},
   "source": [
    "TextToSpeech -- From **pdf** file"
   ]
  },
  {
   "cell_type": "code",
   "execution_count": 37,
   "metadata": {},
   "outputs": [],
   "source": [
    "book = open('story2.pdf', 'rb') #So, first we open pdf file\n",
    "pdfReader = PyPDF2.PdfFileReader(book) # reading the pdf file\n",
    "pages = pdfReader.numPages # count number of pages, which will help to read a specific or in a range pages"
   ]
  },
  {
   "cell_type": "markdown",
   "metadata": {},
   "source": [
    "The process for Specific or Individual page"
   ]
  },
  {
   "cell_type": "code",
   "execution_count": 38,
   "metadata": {},
   "outputs": [],
   "source": [
    "page = pdfReader.getPage(0) #Selecting page we want to read. For multiple page reading we'll need to use loop.Check below\n",
    "textInPage = page.extractText() #Extract text from pdf page"
   ]
  },
  {
   "cell_type": "code",
   "execution_count": 39,
   "metadata": {},
   "outputs": [],
   "source": [
    "tts = gTTS(text=textInPage, lang='en', slow=False) # Passing the text and language to the engine\n",
    "\n",
    "###### _Parameters:_  \n",
    "# * `text` - String - Text to be spoken.  \n",
    "# * `lang` - String - [ISO 639-1 language code](#lang_list) (supported by the Google _Text to Speech_ API) to speak in.  \n",
    "# * `slow` - Boolean - Speak slowly. Default `False` (Note: only two speeds are provided by the API).  \n",
    "\n",
    "tts.save('story_en.mp3') #Saving the converted audio in a mp3 file. Name give as you wish just add .mp3 at the last."
   ]
  },
  {
   "cell_type": "markdown",
   "metadata": {},
   "source": [
    "The process for full pdf or in a range"
   ]
  },
  {
   "cell_type": "code",
   "execution_count": 40,
   "metadata": {},
   "outputs": [],
   "source": [
    "textList=[]\n",
    "for num in range(0, pages):\n",
    "    page = pdfReader.getPage(num)\n",
    "    text = page.extractText()\n",
    "    textList.append(text)\n",
    "    \n",
    "#Converting multiline text to single line text\n",
    "textString = \" \".join(textList)\n",
    "# print(textString)\n",
    "\n",
    "tts = gTTS(text=textString, lang='en', slow=False)\n",
    "tts.save('story_en_101.mp3')"
   ]
  },
  {
   "cell_type": "markdown",
   "metadata": {},
   "source": [
    "TextToSpeech -- From **text** file (Example using another language)"
   ]
  },
  {
   "cell_type": "code",
   "execution_count": 41,
   "metadata": {},
   "outputs": [],
   "source": [
    "# # read text file\n",
    "# f = open('th.txt','r', encoding=\"utf8\")\n",
    "# message = f.read()\n",
    "\n",
    "# print(\"Message from text file:\")\n",
    "# print(message)\n",
    "# f.close()\n",
    "\n",
    "# # message = message.decode('utf-8')\n",
    "\n",
    "# tts = gTTS(text=message, lang='th', slow=False)\n",
    "# tts.save('story_th.mp3')"
   ]
  }
 ],
 "metadata": {
  "kernelspec": {
   "display_name": "Python 3",
   "language": "python",
   "name": "python3"
  },
  "language_info": {
   "codemirror_mode": {
    "name": "ipython",
    "version": 3
   },
   "file_extension": ".py",
   "mimetype": "text/x-python",
   "name": "python",
   "nbconvert_exporter": "python",
   "pygments_lexer": "ipython3",
   "version": "3.8.5"
  }
 },
 "nbformat": 4,
 "nbformat_minor": 4
}
